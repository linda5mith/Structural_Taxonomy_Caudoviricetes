{
 "cells": [
  {
   "cell_type": "code",
   "execution_count": 36,
   "id": "5ba63232-b1a9-43fb-b283-d139e946e647",
   "metadata": {},
   "outputs": [],
   "source": [
    "import pandas as pd\n",
    "import numpy as np\n",
    "from scipy.spatial.distance import pdist, squareform\n",
    "import time\n",
    "from tqdm import tqdm"
   ]
  },
  {
   "cell_type": "markdown",
   "id": "3164a891-d497-448c-8b83-efa84eae1d78",
   "metadata": {},
   "source": [
    "    * 4082 phages + (1 hsv1 outgroup)\n",
    "    * 445,098 total phage proteins (+ 53 HSV1 proteins)"
   ]
  },
  {
   "cell_type": "code",
   "execution_count": 3,
   "id": "fe02e278-353b-4d89-b1ed-c3024bf5a81c",
   "metadata": {},
   "outputs": [],
   "source": [
    "genome_metadata = pd.read_csv('../data/genome_ncbi_metadata_with_taxonomy.csv')"
   ]
  },
  {
   "cell_type": "code",
   "execution_count": 6,
   "id": "bc7b4df9-3ac1-4773-8890-9f0bf377014d",
   "metadata": {},
   "outputs": [],
   "source": [
    "ictv_metadata = pd.read_csv('../data/4083_ICTV_metadata.csv')"
   ]
  },
  {
   "cell_type": "code",
   "execution_count": 7,
   "id": "6bad1941-bb2e-49a1-a25b-bd0478e3663e",
   "metadata": {},
   "outputs": [],
   "source": [
    "metadata = pd.read_csv('../data/protein_metadata.csv')"
   ]
  },
  {
   "cell_type": "code",
   "execution_count": 8,
   "id": "e7e1858a-d6aa-4929-b625-c123a59a099f",
   "metadata": {},
   "outputs": [],
   "source": [
    "metadata[\"genome_accn\"] = metadata[\"genome_accn\"].str.replace(r\"\\.\\d+$\", \"\", regex=True)\n",
    "metadata[\"genome_accn\"] = metadata[\"genome_accn\"].str.strip()"
   ]
  },
  {
   "cell_type": "code",
   "execution_count": 9,
   "id": "b6752a3d-9493-4f5e-a917-08971e305286",
   "metadata": {},
   "outputs": [],
   "source": [
    "##################################################\n",
    "#    Foldseek optimal easy-cluster output        #\n",
    "##################################################\n",
    "\n",
    "clu = pd.read_csv('../data/foldseek_easy_cluster/test_thresholds/cov5_c0.4_tm0.3_re1_e1e-2__cluster.tsv',sep='\\t',header=None)"
   ]
  },
  {
   "cell_type": "code",
   "execution_count": 10,
   "id": "c556dd85-fc9f-441a-b2c2-6e966c7ef9b1",
   "metadata": {},
   "outputs": [
    {
     "data": {
      "text/plain": [
       "(445150, 2)"
      ]
     },
     "execution_count": 10,
     "metadata": {},
     "output_type": "execute_result"
    }
   ],
   "source": [
    "clu.shape"
   ]
  },
  {
   "cell_type": "markdown",
   "id": "b27cdb63-1930-47a0-883b-7a5894d12241",
   "metadata": {},
   "source": [
    "# 1. Annotate clusters - link protein accessions to genome accessions and other metadata"
   ]
  },
  {
   "cell_type": "code",
   "execution_count": 11,
   "id": "89d55734-aed2-4340-a516-4dbad33b9f5c",
   "metadata": {},
   "outputs": [],
   "source": [
    "def annotate_clusters(clu, protein_metadata):\n",
    "    \"\"\"\n",
    "    Annotates protein clusters with metadata from a provided protein metadata DataFrame.\n",
    "\n",
    "    Parameters:\n",
    "    ----------\n",
    "    clu : pd.DataFrame\n",
    "        DataFrame containing Foldseek easy-cluster output - two columns: 'cluster' and 'members', which represent clustered \n",
    "        protein identifiers.\n",
    "    \n",
    "    protein_metadata : pd.DataFrame\n",
    "        DataFrame containing metadata for proteins, including genome accession, phage status, \n",
    "        function, pLDDT score, PFAM annotations, and protein length.\n",
    "\n",
    "    Returns:\n",
    "    -------\n",
    "    pd.DataFrame\n",
    "        Annotated cluster DataFrame where each row represents a pair of cluster-member relationships, \n",
    "        enriched with metadata for both the cluster and its members.\n",
    "    \"\"\"\n",
    "    clu.columns = ['cluster', 'members']\n",
    "    clu['cluster'] = clu['cluster'].str.replace('.pdb', '', regex=True)\n",
    "    clu['members'] = clu['members'].str.replace('.pdb', '', regex=True)\n",
    "    \n",
    "    metadata_cols = ['protein_accn', 'genome_accn', 'phage', 'function', 'pLDDT', 'PFAM1', \n",
    "                     'PFAM1_description', 'PFAM1_definition', 'protein_length']\n",
    "    protein_metadata_cleaned = protein_metadata[metadata_cols].copy()\n",
    "\n",
    "    # Merge for cluster metadata\n",
    "    clu = clu.merge(protein_metadata_cleaned, left_on='cluster', right_on='protein_accn', how='left') \\\n",
    "        .rename(columns={'genome_accn': 'cluster_genome_accn', 'phage': 'cluster_phage',\n",
    "                         'function': 'cluster_function', 'pLDDT': 'cluster_pLDDT',\n",
    "                         'PFAM1': 'cluster_PFAM1', 'PFAM1_description': 'cluster_PFAM1_description',\n",
    "                         'PFAM1_definition': 'cluster_PFAM1_definition','protein_length':'cluster_protein_length'}) \\\n",
    "        .drop(['protein_accn'], axis=1)\n",
    "\n",
    "    # Merge for member metadata\n",
    "    clu = clu.merge(protein_metadata_cleaned, left_on='members', right_on='protein_accn', how='left') \\\n",
    "        .rename(columns={'genome_accn': 'member_genome_accn', 'phage': 'member_phage',\n",
    "                         'function': 'member_function', 'pLDDT': 'member_pLDDT',\n",
    "                         'PFAM1': 'member_PFAM1', 'PFAM1_description': 'member_PFAM1_description',\n",
    "                         'PFAM1_definition': 'member_PFAM1_definition','protein_length':'member_protein_length'}) \\\n",
    "        .drop(['protein_accn'], axis=1)\n",
    "\n",
    "    # Remove self-matches and duplicates\n",
    "    clu = clu.drop_duplicates(subset=['cluster', 'members'], keep='first')\n",
    "    clu = clu[(~clu.cluster_genome_accn.isna()) | (~clu.member_genome_accn.isna())]\n",
    "    clu = clu[clu.cluster != clu.members]\n",
    "\n",
    "    # Filter out clusters with fewer than 2 members\n",
    "    cluster_counts = clu.groupby('cluster')['member_genome_accn'].transform('count')\n",
    "    clu = clu[cluster_counts >= 2]\n",
    "\n",
    "    return clu"
   ]
  },
  {
   "cell_type": "code",
   "execution_count": 12,
   "id": "a25ef682-d511-423c-8552-85ba92e0191d",
   "metadata": {},
   "outputs": [],
   "source": [
    "def group_clusters(df):\n",
    "    df_grouped = df.groupby('cluster').agg({'members': 'count', 'cluster_function': 'first',\\\n",
    "                                           'member_PFAM1_definition':'first'})\\\n",
    "                            .reset_index().sort_values(by=['members'], ascending=False)\\\n",
    "                            .reset_index(drop=True)\n",
    "    return df_grouped\n",
    "\n",
    "def group_clusters_taxonomy(df):\n",
    "    df_grouped = df.groupby('cluster').agg({'member_genome_accn': 'nunique', 'cluster_function': 'first',\\\n",
    "                                           'member_PFAM1_definition':'first'})\\\n",
    "                            .reset_index().sort_values(by=['member_genome_accn'], ascending=False)\\\n",
    "                            .reset_index(drop=True)\n",
    "    return df_grouped"
   ]
  },
  {
   "cell_type": "code",
   "execution_count": 13,
   "id": "712b8bed-1f52-4b19-8b5d-8166d0720e0c",
   "metadata": {},
   "outputs": [],
   "source": [
    "clu_metadata = annotate_clusters(clu, metadata)"
   ]
  },
  {
   "cell_type": "code",
   "execution_count": 14,
   "id": "f4520356-d5e9-4480-b361-4f2918d2fdc1",
   "metadata": {},
   "outputs": [
    {
     "data": {
      "text/plain": [
       "(331773, 18)"
      ]
     },
     "execution_count": 14,
     "metadata": {},
     "output_type": "execute_result"
    }
   ],
   "source": [
    "clu_metadata.shape"
   ]
  },
  {
   "cell_type": "code",
   "execution_count": 15,
   "id": "b84d20d6-a722-4de8-b306-34e723473377",
   "metadata": {},
   "outputs": [],
   "source": [
    "# top 10 most populous clusters\n",
    "top_10_clusters = group_clusters_taxonomy(clu_metadata)[0:10]"
   ]
  },
  {
   "cell_type": "code",
   "execution_count": 16,
   "id": "af06c9c5-014e-418b-991a-f409d65d4f0a",
   "metadata": {},
   "outputs": [],
   "source": [
    "clu_grpd = group_clusters_taxonomy(clu_metadata)"
   ]
  },
  {
   "cell_type": "code",
   "execution_count": 17,
   "id": "625f5cb0-a57c-4604-86d1-8359e044c3e9",
   "metadata": {},
   "outputs": [
    {
     "data": {
      "text/html": [
       "<div>\n",
       "<style scoped>\n",
       "    .dataframe tbody tr th:only-of-type {\n",
       "        vertical-align: middle;\n",
       "    }\n",
       "\n",
       "    .dataframe tbody tr th {\n",
       "        vertical-align: top;\n",
       "    }\n",
       "\n",
       "    .dataframe thead th {\n",
       "        text-align: right;\n",
       "    }\n",
       "</style>\n",
       "<table border=\"1\" class=\"dataframe\">\n",
       "  <thead>\n",
       "    <tr style=\"text-align: right;\">\n",
       "      <th></th>\n",
       "      <th>cluster</th>\n",
       "      <th>member_genome_accn</th>\n",
       "      <th>cluster_function</th>\n",
       "      <th>member_PFAM1_definition</th>\n",
       "    </tr>\n",
       "  </thead>\n",
       "  <tbody>\n",
       "    <tr>\n",
       "      <th>0</th>\n",
       "      <td>YP_009620569.1</td>\n",
       "      <td>3820</td>\n",
       "      <td>terminase large subunit</td>\n",
       "      <td>Phage terminase large subunit</td>\n",
       "    </tr>\n",
       "    <tr>\n",
       "      <th>1</th>\n",
       "      <td>YP_010082820.1</td>\n",
       "      <td>3510</td>\n",
       "      <td>hypothetical protein KMD24_gp018</td>\n",
       "      <td>Phage capsid family</td>\n",
       "    </tr>\n",
       "    <tr>\n",
       "      <th>2</th>\n",
       "      <td>YP_008058468.1</td>\n",
       "      <td>2355</td>\n",
       "      <td>tail tube protein</td>\n",
       "      <td>Phage tail tube protein</td>\n",
       "    </tr>\n",
       "    <tr>\n",
       "      <th>3</th>\n",
       "      <td>YP_010063459.1</td>\n",
       "      <td>2059</td>\n",
       "      <td>tail terminator</td>\n",
       "      <td>Phage minor tail protein U</td>\n",
       "    </tr>\n",
       "    <tr>\n",
       "      <th>4</th>\n",
       "      <td>YP_009595775.1</td>\n",
       "      <td>2003</td>\n",
       "      <td>hypothetical protein FDH00_gp17</td>\n",
       "      <td>Phage head-tail joining protein</td>\n",
       "    </tr>\n",
       "  </tbody>\n",
       "</table>\n",
       "</div>"
      ],
      "text/plain": [
       "          cluster  member_genome_accn                  cluster_function  \\\n",
       "0  YP_009620569.1                3820           terminase large subunit   \n",
       "1  YP_010082820.1                3510  hypothetical protein KMD24_gp018   \n",
       "2  YP_008058468.1                2355                 tail tube protein   \n",
       "3  YP_010063459.1                2059                   tail terminator   \n",
       "4  YP_009595775.1                2003   hypothetical protein FDH00_gp17   \n",
       "\n",
       "           member_PFAM1_definition  \n",
       "0    Phage terminase large subunit  \n",
       "1              Phage capsid family  \n",
       "2          Phage tail tube protein  \n",
       "3       Phage minor tail protein U  \n",
       "4  Phage head-tail joining protein  "
      ]
     },
     "execution_count": 17,
     "metadata": {},
     "output_type": "execute_result"
    }
   ],
   "source": [
    "clu_grpd[0:5]"
   ]
  },
  {
   "cell_type": "markdown",
   "id": "02a0a494-9fd0-48cf-a461-e988ae05a857",
   "metadata": {},
   "source": [
    "# 2. Presence/absence table of genome counts by structural protein clusters"
   ]
  },
  {
   "cell_type": "code",
   "execution_count": 18,
   "id": "83fcd753-cdd4-43ca-8fcd-2b9a69df369f",
   "metadata": {},
   "outputs": [
    {
     "name": "stdout",
     "output_type": "stream",
     "text": [
      "Execution time: 18.2120 seconds\n"
     ]
    }
   ],
   "source": [
    "start_time = time.time()\n",
    "df = clu_metadata\n",
    "\n",
    "df['cluster_ID_function'] = df[\"cluster\"] + ':' + df['cluster_function']\n",
    "presence_absence = pd.crosstab(df[\"cluster_ID_function\"], df[\"member_genome_accn\"])\n",
    "\n",
    "# filter out cluster with less than 2 members e.g. singleton clusters\n",
    "presence_absence = presence_absence[presence_absence.sum(axis=1) >= 2]\n",
    "\n",
    "end_time = time.time()\n",
    "elapsed_time = end_time - start_time\n",
    "print(f\"Execution time: {elapsed_time:.4f} seconds\")"
   ]
  },
  {
   "cell_type": "code",
   "execution_count": 19,
   "id": "e8b85a72-2f11-4b51-bb4e-f7098fecafc4",
   "metadata": {},
   "outputs": [
    {
     "data": {
      "text/plain": [
       "(20289, 4083)"
      ]
     },
     "execution_count": 19,
     "metadata": {},
     "output_type": "execute_result"
    }
   ],
   "source": [
    "presence_absence.shape"
   ]
  },
  {
   "cell_type": "code",
   "execution_count": 20,
   "id": "4bf195db-0c37-4103-b3c1-265becac1d16",
   "metadata": {},
   "outputs": [
    {
     "data": {
      "text/plain": [
       "4083"
      ]
     },
     "execution_count": 20,
     "metadata": {},
     "output_type": "execute_result"
    }
   ],
   "source": [
    "ictv_metadata.genome_accn.nunique()"
   ]
  },
  {
   "cell_type": "code",
   "execution_count": 24,
   "id": "e5a8559b-bfff-4fef-ae26-6b807386f69a",
   "metadata": {},
   "outputs": [],
   "source": [
    "presence_absence.to_csv('../data/presence_absence_4083.csv')"
   ]
  },
  {
   "cell_type": "markdown",
   "id": "2cdbf0d5-1b57-49b8-b268-c35d43a5ad5f",
   "metadata": {},
   "source": [
    "# 3. Calc % shared proteins (Sørensen–Dice similarity coefficient)"
   ]
  },
  {
   "cell_type": "code",
   "execution_count": 35,
   "id": "c59b4929-abce-47c4-8fb4-66aad367fefd",
   "metadata": {},
   "outputs": [
    {
     "name": "stderr",
     "output_type": "stream",
     "text": [
      "Computing Dice similarity: 100%|███████████████████████████████████████████████████| 4083/4083 [05:36<00:00, 12.12it/s]"
     ]
    },
    {
     "name": "stdout",
     "output_type": "stream",
     "text": [
      "✅ Done: Dice similarity matrix computed in 337.12 seconds\n"
     ]
    },
    {
     "name": "stderr",
     "output_type": "stream",
     "text": [
      "\n"
     ]
    }
   ],
   "source": [
    "start = time.time()\n",
    "\n",
    "# Ensure binary input\n",
    "bin_matrix = (presence_absence == 1).astype(np.uint8).to_numpy()\n",
    "genome_ids = presence_absence.columns\n",
    "n_genomes = bin_matrix.shape[1]\n",
    "\n",
    "# Precompute the number of proteins per genome\n",
    "sums = bin_matrix.sum(axis=0).astype(np.float32)\n",
    "\n",
    "# Initialize output matrix\n",
    "dice_sim = np.zeros((n_genomes, n_genomes), dtype=np.float32)\n",
    "\n",
    "# Loop over genome pairs\n",
    "for i in tqdm(range(n_genomes), desc=\"Computing Dice similarity\"):\n",
    "    for j in range(i, n_genomes):\n",
    "        shared = np.sum(bin_matrix[:, i] & bin_matrix[:, j])\n",
    "        denom = (sums[i] + sums[j]) / 2\n",
    "        sim = shared / denom if denom != 0 else 0.0\n",
    "        dice_sim[i, j] = sim\n",
    "        dice_sim[j, i] = sim  # symmetric\n",
    "\n",
    "# Set self-similarity to 1\n",
    "np.fill_diagonal(dice_sim, 1.0)\n",
    "\n",
    "pairwise_df = pd.DataFrame(dice_sim, index=genome_ids, columns=genome_ids)\n",
    "dist_df = 1 - pairwise_df\n",
    "\n",
    "end = time.time()\n",
    "print(f\"✅ Done: Dice similarity matrix computed in {end - start:.2f} seconds\")"
   ]
  },
  {
   "cell_type": "markdown",
   "id": "4a936c32-abc0-4593-8399-3f2628aeb6df",
   "metadata": {},
   "source": [
    "# 4. Convert dist matrix to PHYLIP format"
   ]
  },
  {
   "cell_type": "code",
   "execution_count": 38,
   "id": "06f4cc9d-baac-44be-99c0-0bf8f3f892fc",
   "metadata": {},
   "outputs": [
    {
     "name": "stdout",
     "output_type": "stream",
     "text": [
      "Matrix converted to PHYLIP at time: 2025-07-09 15:54:13\n"
     ]
    }
   ],
   "source": [
    "from datetime import datetime\n",
    "start_time = datetime.now().strftime(\"%Y-%m-%d %H:%M:%S\")\n",
    "\n",
    "dist_df = dist_df.rename_axis(\"genomes\")\n",
    "matrix = dist_df\n",
    "\n",
    "# Sort index\n",
    "sorted_index = sorted(matrix.index)\n",
    "matrix = matrix.loc[sorted_index, sorted_index]\n",
    "\n",
    "# Remove spaces and forbidden characters from index (taxa names)\n",
    "matrix.index = matrix.index.str.replace(' ', '_')\n",
    "matrix.index = matrix.index.str.replace(r'[(),:]', '_', regex=True)\n",
    "\n",
    "# Ensure taxa names are at most 10 characters long\n",
    "matrix.index = matrix.index.str[:10]\n",
    "\n",
    "# Convert to PHYLIP format\n",
    "phylip_path = \"../data/4084_dice_cov5_c0.4_tm0.3_re1_e1e-2.phylip\"\n",
    "with open(phylip_path, \"w\") as f:\n",
    "    f.write(f\"{len(matrix)}\\n\")  # Write the number of taxa as the first line\n",
    "    for idx, row in matrix.iterrows():\n",
    "        f.write(f\"{idx.ljust(10)} {' '.join(row.astype(str))}\\n\")  # Taxa name + distances\n",
    "\n",
    "end_time = datetime.now().strftime(\"%Y-%m-%d %H:%M:%S\")\n",
    "\n",
    "print(f\"Matrix converted to PHYLIP at time: {end_time}\")"
   ]
  },
  {
   "cell_type": "code",
   "execution_count": 39,
   "id": "5e11e491-75bf-4ec2-a93b-69506544ea8e",
   "metadata": {},
   "outputs": [
    {
     "name": "stdout",
     "output_type": "stream",
     "text": [
      "Nearly identical taxa found:\n",
      "Taxa: NC_027347 and NC_041957, Distance: 0.0\n",
      "Taxa: NC_047722 and NC_047728, Distance: 0.005813956260681152\n"
     ]
    }
   ],
   "source": [
    "# Quick search to check if any taxa are extremely similar\n",
    "threshold = 0.01\n",
    "# List to store pairs of nearly identical taxa\n",
    "nearly_identical_taxa = []\n",
    "\n",
    "# Loop through the upper triangle of the matrix (excluding the diagonal)\n",
    "for i in range(len(matrix.columns)):\n",
    "    for j in range(i + 1, len(matrix.columns)):\n",
    "        distance = matrix.iloc[i, j]\n",
    "        if distance < threshold:  # If the distance is below the threshold, consider it nearly identical\n",
    "            nearly_identical_taxa.append((matrix.columns[i], matrix.columns[j], distance))\n",
    "\n",
    "# Print out the results\n",
    "if nearly_identical_taxa:\n",
    "    print(\"Nearly identical taxa found:\")\n",
    "    for taxa_pair in nearly_identical_taxa:\n",
    "        print(f\"Taxa: {taxa_pair[0]} and {taxa_pair[1]}, Distance: {taxa_pair[2]}\")\n",
    "else:\n",
    "    print(\"No nearly identical taxa found.\")"
   ]
  },
  {
   "cell_type": "markdown",
   "id": "b36a359d-58ce-4230-86a2-8aba18a8d89e",
   "metadata": {},
   "source": [
    "# 5. Calculate % shared proteins between all genomes"
   ]
  },
  {
   "cell_type": "code",
   "execution_count": 27,
   "id": "497bef0a-86f0-491f-8693-27a41498f099",
   "metadata": {},
   "outputs": [
    {
     "name": "stderr",
     "output_type": "stream",
     "text": [
      "100%|██████████████████████████████████████████████████████████████████████████████| 4083/4083 [08:15<00:00,  8.24it/s]\n"
     ]
    },
    {
     "name": "stdout",
     "output_type": "stream",
     "text": [
      "Execution time: 495.7480 seconds\n"
     ]
    }
   ],
   "source": [
    "from tqdm import tqdm\n",
    "\n",
    "start_time = time.time()\n",
    "\n",
    "presence_absence_array = presence_absence.to_numpy()\n",
    "\n",
    "num_cols = presence_absence_array.shape[1]\n",
    "column_sums = np.sum(presence_absence_array == 1, axis=0)\n",
    "\n",
    "pairwise_matrix = np.zeros((num_cols, num_cols))\n",
    "\n",
    "for i in tqdm(range(num_cols)):\n",
    "    for j in range(i+1, num_cols):\n",
    "        # Calculate count of rows where both columns have share a protein in the same structural protein cluster\n",
    "        count = np.sum((presence_absence_array[:, i] == 1) & (presence_absence_array[:, j] == 1))\n",
    "        \n",
    "        # Calculate the percentage of shared proteins using precomputed column sums\n",
    "        if column_sums[i] > 0 and column_sums[j] > 0:\n",
    "            # normalize by average of total 2 sets of protein clusters\n",
    "            perc_shared_prots = count / ((column_sums[i] + column_sums[j]) / 2)\n",
    "            #perc_shared_prots = count / min(column_sums[i], column_sums[j])\n",
    "        else:\n",
    "            perc_shared_prots = 0\n",
    "        \n",
    "        pairwise_matrix[i, j] = perc_shared_prots\n",
    "        pairwise_matrix[j, i] = perc_shared_prots\n",
    "\n",
    "# Set diagonal values to 1, because a genome shares 100% of proteins with itself\n",
    "np.fill_diagonal(pairwise_matrix, 1)\n",
    "\n",
    "# Convert the NumPy matrix to a DataFrame\n",
    "pairwise_df = pd.DataFrame(pairwise_matrix, index=presence_absence.columns, columns=presence_absence.columns)\n",
    "\n",
    "end_time = time.time()\n",
    "elapsed_time = end_time - start_time\n",
    "print(f\"Execution time: {elapsed_time:.4f} seconds\")"
   ]
  },
  {
   "cell_type": "code",
   "execution_count": 28,
   "id": "5b0acd54-32da-4f99-b258-d6e739254115",
   "metadata": {},
   "outputs": [],
   "source": [
    "pairwise_df.to_csv('../data/4083_%_shared_proteins.csv')"
   ]
  },
  {
   "cell_type": "markdown",
   "id": "b69cda87-dc64-4880-8f25-8b0a98e42f5c",
   "metadata": {},
   "source": [
    "# 6. Calculate agreement of ICTV labels with dice distance tree topology"
   ]
  },
  {
   "cell_type": "markdown",
   "id": "d0d65c0c-6e93-44f2-adab-68413340ffd4",
   "metadata": {},
   "source": [
    "### Assess monophyly or clustering coherence for each family on the tree:"
   ]
  },
  {
   "cell_type": "code",
   "execution_count": 33,
   "id": "4f209cb1-3b9b-4a66-952a-bf96f6ecc4ce",
   "metadata": {},
   "outputs": [],
   "source": [
    "from ete3 import Tree\n",
    "tree = Tree(\"../data/4084_dice_cov5_c0.4_tm0.3_re1_e1e-2_NJ.nwk\")\n",
    "RED_taxonomy = pd.read_csv('../data/RED_taxonomy.csv')"
   ]
  },
  {
   "cell_type": "code",
   "execution_count": 106,
   "id": "ebb1f0c1-f10d-4719-babc-92071deddbdf",
   "metadata": {},
   "outputs": [
    {
     "name": "stdout",
     "output_type": "stream",
     "text": [
      "                Family  Num Members  LCA Size  Monophyletic  Precision\n",
      "0       Herelleviridae          115       115          True        1.0\n",
      "35  Fredfastierviridae            2         2          True        1.0\n",
      "23        Peduoviridae          101       101          True        1.0\n",
      "24  Kleczkowskaviridae            2         2          True        1.0\n",
      "1       Drexlerviridae          113       113          True        1.0\n",
      "28       Graaviviridae            2         2          True        1.0\n",
      "29     Haloferuviridae            3         3          True        1.0\n",
      "30       Druskaviridae            2         2          True        1.0\n",
      "31       Hafunaviridae           10        10          True        1.0\n",
      "36       Madridviridae            2         2          True        1.0\n"
     ]
    }
   ],
   "source": [
    "# Load tree\n",
    "tree = Tree(\"../data/4084_dice_cov5_c0.4_tm0.3_re1_e1e-2_NJ.nwk\")\n",
    "ictv_metadata = pd.read_csv('../data/4083_ICTV_metadata')\n",
    "\n",
    "# Load metadata (adjust path and column names as needed)\n",
    "metadata = ictv_metadata.rename(columns={\"genome_accn\": \"Leaf\"})  # Rename to match tree leaves\n",
    "\n",
    "# Keep only rows where the leaf is present in the tree\n",
    "tree_leaves = set(leaf.name for leaf in tree)\n",
    "metadata = metadata[metadata[\"Leaf\"].isin(tree_leaves)]\n",
    "\n",
    "# --- Function to test monophyly and precision ---\n",
    "def test_monophyly(tree, metadata, label_column=\"Family\"):\n",
    "    results = []\n",
    "    leaf_to_label = metadata.set_index(\"Leaf\")[label_column].to_dict()\n",
    "    labels = metadata[label_column].dropna().unique()\n",
    "\n",
    "    for label in labels:\n",
    "        members = metadata[metadata[label_column] == label][\"Leaf\"].tolist()\n",
    "        if len(members) < 2:\n",
    "            continue  # skip singletons\n",
    "\n",
    "        try:\n",
    "            lca = tree.get_common_ancestor(members)\n",
    "            lca_leaves = set(leaf.name for leaf in lca.iter_leaves())\n",
    "            member_set = set(members)\n",
    "\n",
    "            is_monophyletic = lca_leaves == member_set\n",
    "            precision = len(member_set & lca_leaves) / len(lca_leaves)\n",
    "\n",
    "            results.append({\n",
    "                label_column: label,\n",
    "                \"Num Members\": len(member_set),\n",
    "                \"LCA Size\": len(lca_leaves),\n",
    "                \"Monophyletic\": is_monophyletic,\n",
    "                \"Precision\": round(precision, 3)\n",
    "            })\n",
    "\n",
    "        except:\n",
    "            continue\n",
    "\n",
    "    return pd.DataFrame(results).sort_values(\"Precision\", ascending=False)\n",
    "\n",
    "# --- Run it ---\n",
    "family_precision_df = test_monophyly(tree, metadata, label_column=\"Family\")\n",
    "\n",
    "# --- View results ---\n",
    "print(family_precision_df.head(10))"
   ]
  },
  {
   "cell_type": "code",
   "execution_count": 107,
   "id": "31e348f8-5523-4db8-b5e9-c6f1a69fc142",
   "metadata": {},
   "outputs": [],
   "source": [
    "order_precision_df = test_monophyly(tree, metadata, label_column=\"Order\")"
   ]
  },
  {
   "cell_type": "code",
   "execution_count": 108,
   "id": "2511713c-de5b-4324-beb6-8d35392eb1a5",
   "metadata": {},
   "outputs": [],
   "source": [
    "subfamily_precision_df = test_monophyly(tree, metadata, label_column=\"Subfamily\")"
   ]
  },
  {
   "cell_type": "code",
   "execution_count": 109,
   "id": "be89375f-8130-4e6f-bd63-0f6f49c935fc",
   "metadata": {},
   "outputs": [],
   "source": [
    "genus_precision_df = test_monophyly(tree, metadata, label_column=\"Genus\")"
   ]
  },
  {
   "cell_type": "code",
   "execution_count": null,
   "id": "7224f3e9-2039-438f-bb4e-bc17b45eb587",
   "metadata": {},
   "outputs": [],
   "source": [
    "85 /121 subfamilies - precision =1   \n",
    "503/584 genera - precision =1   "
   ]
  },
  {
   "cell_type": "code",
   "execution_count": 115,
   "id": "5d6454ac-e30d-481c-91d6-a9eef987b204",
   "metadata": {},
   "outputs": [
    {
     "data": {
      "text/plain": [
       "0.5454545454545454"
      ]
     },
     "execution_count": 115,
     "metadata": {},
     "output_type": "execute_result"
    }
   ],
   "source": [
    "30/55"
   ]
  },
  {
   "cell_type": "code",
   "execution_count": 120,
   "id": "6284ce0e-0b83-40bd-88d8-f2bdd3950fb3",
   "metadata": {},
   "outputs": [
    {
     "data": {
      "text/plain": [
       "(38, 6)"
      ]
     },
     "execution_count": 120,
     "metadata": {},
     "output_type": "execute_result"
    }
   ],
   "source": [
    "family_precision_df[family_precision_df.Precision>0.80].shape"
   ]
  },
  {
   "cell_type": "code",
   "execution_count": 121,
   "id": "fe8b2870-6e06-4cda-8e86-88ef3af609f2",
   "metadata": {},
   "outputs": [
    {
     "data": {
      "text/plain": [
       "0.6909090909090909"
      ]
     },
     "execution_count": 121,
     "metadata": {},
     "output_type": "execute_result"
    }
   ],
   "source": [
    "38/55"
   ]
  },
  {
   "cell_type": "code",
   "execution_count": 110,
   "id": "b336b8a7-3f45-4ad2-8e6b-3bc293918e88",
   "metadata": {},
   "outputs": [],
   "source": [
    "# Rename the taxonomic column in each dataframe to 'Taxa'\n",
    "family_precision_df.rename(columns={\"Family\": \"Taxa\"}, inplace=True)\n",
    "order_precision_df.rename(columns={\"Order\": \"Taxa\"}, inplace=True)\n",
    "subfamily_precision_df.rename(columns={\"Subfamily\": \"Taxa\"}, inplace=True)\n",
    "genus_precision_df.rename(columns={\"Genus\": \"Taxa\"}, inplace=True)\n",
    "\n",
    "# Add a new column for the rank\n",
    "family_precision_df[\"Rank\"] = \"Family\"\n",
    "order_precision_df[\"Rank\"] = \"Order\"\n",
    "subfamily_precision_df[\"Rank\"] = \"Subfamily\"\n",
    "genus_precision_df[\"Rank\"] = \"Genus\"\n",
    "\n",
    "# Now all DataFrames share the same column names\n",
    "common_cols = [\"Rank\", \"Taxa\", \"Num Members\", \"LCA Size\", \"Monophyletic\", \"Precision\"]\n",
    "\n",
    "# Subset and concatenate\n",
    "precision_all = pd.concat([\n",
    "    family_precision_df[common_cols],\n",
    "    order_precision_df[common_cols],\n",
    "    subfamily_precision_df[common_cols],\n",
    "    genus_precision_df[common_cols]\n",
    "])"
   ]
  },
  {
   "cell_type": "code",
   "execution_count": 122,
   "id": "af0d4887-751f-43c2-ae3a-a95d7813120f",
   "metadata": {},
   "outputs": [],
   "source": [
    "precision_all.reset_index(drop=True).to_csv('../data/taxa_ictv_concordance_lca_clustering.csv',index=False)"
   ]
  },
  {
   "cell_type": "code",
   "execution_count": 146,
   "id": "7161b74a-ebcd-4166-a098-bb280b810f07",
   "metadata": {},
   "outputs": [
    {
     "name": "stderr",
     "output_type": "stream",
     "text": [
      "C:\\Users\\crtuser\\AppData\\Local\\Temp\\ipykernel_24280\\1138994407.py:86: UserWarning: This figure includes Axes that are not compatible with tight_layout, so results might be incorrect.\n",
      "  plt.tight_layout()\n"
     ]
    },
    {
     "data": {
      "image/png": "[encoded data removed]",
      "text/plain": [
       "<Figure size 1600x1000 with 2 Axes>"
      ]
     },
     "metadata": {},
     "output_type": "display_data"
    }
   ],
   "source": [
    "import matplotlib.pyplot as plt\n",
    "import seaborn as sns\n",
    "import pandas as pd\n",
    "import matplotlib.gridspec as gridspec\n",
    "\n",
    "# Define rank order and palette\n",
    "rank_order = [\"Order\", \"Family\", \"Subfamily\", \"Genus\"]\n",
    "palette = sns.color_palette(\"Set2\", n_colors=len(rank_order))\n",
    "rank_colors = dict(zip(rank_order, palette))\n",
    "precision_all[\"Rank\"] = pd.Categorical(precision_all[\"Rank\"], categories=rank_order, ordered=True)\n",
    "\n",
    "# Set up figure\n",
    "fig = plt.figure(figsize=(16, 10))\n",
    "gs = gridspec.GridSpec(1, 2, width_ratios=[2.5, 1], wspace=0.4)\n",
    "\n",
    "# Create outer axis (just to hold the histograms)\n",
    "outer_ax = plt.subplot(gs[0])\n",
    "outer_ax.axis(\"off\")  # hide unwanted border\n",
    "\n",
    "# Plot histograms for each rank\n",
    "n_ranks = len(rank_order)\n",
    "height_per_plot = 0.18\n",
    "spacing = 0.06\n",
    "\n",
    "for i, rank in enumerate(rank_order):\n",
    "    y_pos = 1 - (i * (height_per_plot + spacing)) - height_per_plot\n",
    "    ax = outer_ax.inset_axes([0.1, y_pos, 0.85, height_per_plot])\n",
    "    \n",
    "    sns.histplot(\n",
    "        data=precision_all[precision_all[\"Rank\"] == rank],\n",
    "        x=\"Precision\",\n",
    "        bins=20,\n",
    "        color=rank_colors[rank],\n",
    "        edgecolor=\"black\",\n",
    "        ax=ax\n",
    "    )\n",
    "    \n",
    "    ax.set_xlim(0, 1)\n",
    "    ax.set_title(rank, fontsize=12, loc=\"center\")\n",
    "\n",
    "    # Clean up axes\n",
    "    if i != n_ranks - 1:\n",
    "        ax.set_xticklabels([])\n",
    "        ax.set_xlabel(\"\")\n",
    "    else:\n",
    "        ax.set_xlabel(\"Precision\", fontsize=12)\n",
    "    \n",
    "    if i != 0:\n",
    "        ax.set_yticklabels([])\n",
    "        ax.set_ylabel(\"\")\n",
    "    else:\n",
    "        ax.set_ylabel(\"Count\", fontsize=12)\n",
    "    \n",
    "    for spine in [\"top\", \"right\"]:\n",
    "        ax.spines[spine].set_visible(False)\n",
    "\n",
    "# Boxplot on the right\n",
    "ax1 = plt.subplot(gs[1])\n",
    "sns.boxplot(\n",
    "    data=precision_all,\n",
    "    y=\"Rank\",\n",
    "    x=\"Precision\",\n",
    "    hue=\"Rank\",\n",
    "    palette=rank_colors,\n",
    "    fliersize=0,\n",
    "    ax=ax1,\n",
    "    dodge=False\n",
    ")\n",
    "sns.stripplot(\n",
    "    data=precision_all,\n",
    "    y=\"Rank\",\n",
    "    x=\"Precision\",\n",
    "    color=\"black\",\n",
    "    size=3,\n",
    "    jitter=0.25,\n",
    "    alpha=0.4,\n",
    "    ax=ax1\n",
    ")\n",
    "\n",
    "ax1.set_title(\"Monophyly Precision Summary\", fontsize=13)\n",
    "ax1.set_xlabel(\"Precision Score\", fontsize=12)\n",
    "ax1.set_ylabel(\"\")\n",
    "\n",
    "# Final layout\n",
    "fig.suptitle(\"LCA-Based Monophyly Precision Across ICTV Taxonomic Ranks\", fontsize=25, y=0.98)\n",
    "plt.tight_layout()\n",
    "# Add 'A' and 'B' labels to the subplots\n",
    "fig.text(0.02, 0.9, \"A\", fontsize=15, fontweight='bold')  # Left panel\n",
    "fig.text(0.6, 0.9, \"B\", fontsize=15, fontweight='bold')  # Right panel (adjust if needed)\n",
    "\n",
    "plt.savefig(\"../plots/combined_monophyly_precision_plot.png\", dpi=300)\n",
    "plt.show()"
   ]
  },
  {
   "cell_type": "code",
   "execution_count": 49,
   "id": "c62c2960-9ede-4a72-af73-12987df993bd",
   "metadata": {},
   "outputs": [
    {
     "data": {
      "text/plain": [
       "0.45454545454545453"
      ]
     },
     "execution_count": 49,
     "metadata": {},
     "output_type": "execute_result"
    }
   ],
   "source": [
    "25/55"
   ]
  },
  {
   "cell_type": "code",
   "execution_count": 70,
   "id": "627d2cbb-7745-4d91-a192-597eb0a96569",
   "metadata": {},
   "outputs": [
    {
     "data": {
      "text/plain": [
       "array([nan, 'Herelleviridae', 'Drexlerviridae', 'Casjensviridae',\n",
       "       'Salasmaviridae', 'Straboviridae', 'Kyanoviridae',\n",
       "       'Pervagoviridae', 'Forsetiviridae', 'Pachyviridae',\n",
       "       'Aggregaviridae', 'Duneviridae', 'Helgolandviridae',\n",
       "       'Molycolviridae', 'Assiduviridae', 'Winoviridae', 'Intestiviridae',\n",
       "       'Suoliviridae', 'Steigviridae', 'Crevaviridae', 'Schitoviridae',\n",
       "       'Aliceevansviridae', 'Stanwilliamsviridae', 'Chaseviridae',\n",
       "       'Rountreeviridae', 'Pootjesviridae', 'Peduoviridae',\n",
       "       'Kleczkowskaviridae', 'Guelinviridae', 'Grimontviridae',\n",
       "       'Demerecviridae', 'Graaviviridae', 'Haloferuviridae',\n",
       "       'Pyrstoviridae', 'Shortaselviridae', 'Anaerodiviridae',\n",
       "       'Leisingerviridae', 'Druskaviridae', 'Hafunaviridae',\n",
       "       'Halomagnusviridae', 'Soleiviridae', 'Ackermannviridae',\n",
       "       'Arenbergviridae', 'Autographiviridae', 'Chimalliviridae',\n",
       "       'Fervensviridae', 'Fredfastierviridae', 'Madisaviridae',\n",
       "       'Madridviridae', 'Mesyanzhinovviridae', 'Naomviridae',\n",
       "       'Orlajensenviridae', 'Pungoviridae', 'Saffermanviridae',\n",
       "       'Saparoviridae', 'Suolaviridae', 'Verdandiviridae', 'Vertoviridae',\n",
       "       'Vilmaviridae', 'Zierdtviridae', 'Zobellviridae',\n",
       "       'Orthoherpesviridae', 'Ahpuchviridae', 'Ekchuahviridae',\n",
       "       'Yanlukaviridae', 'Yangangviridae', 'Aoguangviridae',\n",
       "       'Kairosviridae', 'Armatusviridae', 'Pigerviridae', 'Apasviridae',\n",
       "       'Krittikaviridae', 'Satyavativiridae', 'Usuviridae', 'Lakviridae',\n",
       "       'Epsomviridae', 'Autonotataviridae', 'Autotranscriptaviridae',\n",
       "       'Autoscriptoviridae', 'Autosignataviridae', 'Unassigned'],\n",
       "      dtype=object)"
      ]
     },
     "execution_count": 70,
     "metadata": {},
     "output_type": "execute_result"
    }
   ],
   "source": [
    "ictv_metadata.Family.unique()"
   ]
  },
  {
   "cell_type": "code",
   "execution_count": 56,
   "id": "b9f5cbe6-792b-4b52-841a-60e053923542",
   "metadata": {},
   "outputs": [],
   "source": [
    "singleton_families = ictv_metadata[~ictv_metadata.Family.isin(family_precision_df.Family.to_list())]"
   ]
  },
  {
   "cell_type": "code",
   "execution_count": 80,
   "id": "2b9eae57-bad7-44c9-87ef-05d0a749bff5",
   "metadata": {},
   "outputs": [
    {
     "data": {
      "text/plain": [
       "(25,)"
      ]
     },
     "execution_count": 80,
     "metadata": {},
     "output_type": "execute_result"
    }
   ],
   "source": [
    "singleton_families.groupby(['Family'])['genome_accn'].count().shape"
   ]
  },
  {
   "cell_type": "code",
   "execution_count": 61,
   "id": "c29e5067-ce12-4053-b905-d1425997a600",
   "metadata": {},
   "outputs": [
    {
     "data": {
      "text/plain": [
       "(30, 5)"
      ]
     },
     "execution_count": 61,
     "metadata": {},
     "output_type": "execute_result"
    }
   ],
   "source": [
    "family_precision_df[family_precision_df.Precision==1].shape"
   ]
  },
  {
   "cell_type": "code",
   "execution_count": 71,
   "id": "aac21e8c-541b-465f-88cd-94d8e33bd55d",
   "metadata": {},
   "outputs": [
    {
     "data": {
      "text/html": [
       "<div>\n",
       "<style scoped>\n",
       "    .dataframe tbody tr th:only-of-type {\n",
       "        vertical-align: middle;\n",
       "    }\n",
       "\n",
       "    .dataframe tbody tr th {\n",
       "        vertical-align: top;\n",
       "    }\n",
       "\n",
       "    .dataframe thead th {\n",
       "        text-align: right;\n",
       "    }\n",
       "</style>\n",
       "<table border=\"1\" class=\"dataframe\">\n",
       "  <thead>\n",
       "    <tr style=\"text-align: right;\">\n",
       "      <th></th>\n",
       "      <th>Family</th>\n",
       "      <th>Num Members</th>\n",
       "      <th>LCA Size</th>\n",
       "      <th>Monophyletic</th>\n",
       "      <th>Precision</th>\n",
       "    </tr>\n",
       "  </thead>\n",
       "  <tbody>\n",
       "    <tr>\n",
       "      <th>32</th>\n",
       "      <td>Ackermannviridae</td>\n",
       "      <td>63</td>\n",
       "      <td>64</td>\n",
       "      <td>False</td>\n",
       "      <td>0.984</td>\n",
       "    </tr>\n",
       "    <tr>\n",
       "      <th>4</th>\n",
       "      <td>Straboviridae</td>\n",
       "      <td>208</td>\n",
       "      <td>212</td>\n",
       "      <td>False</td>\n",
       "      <td>0.981</td>\n",
       "    </tr>\n",
       "    <tr>\n",
       "      <th>2</th>\n",
       "      <td>Casjensviridae</td>\n",
       "      <td>50</td>\n",
       "      <td>51</td>\n",
       "      <td>False</td>\n",
       "      <td>0.980</td>\n",
       "    </tr>\n",
       "    <tr>\n",
       "      <th>18</th>\n",
       "      <td>Aliceevansviridae</td>\n",
       "      <td>126</td>\n",
       "      <td>133</td>\n",
       "      <td>False</td>\n",
       "      <td>0.947</td>\n",
       "    </tr>\n",
       "    <tr>\n",
       "      <th>53</th>\n",
       "      <td>Autosignataviridae</td>\n",
       "      <td>34</td>\n",
       "      <td>36</td>\n",
       "      <td>False</td>\n",
       "      <td>0.944</td>\n",
       "    </tr>\n",
       "    <tr>\n",
       "      <th>5</th>\n",
       "      <td>Kyanoviridae</td>\n",
       "      <td>66</td>\n",
       "      <td>70</td>\n",
       "      <td>False</td>\n",
       "      <td>0.943</td>\n",
       "    </tr>\n",
       "    <tr>\n",
       "      <th>51</th>\n",
       "      <td>Autotranscriptaviridae</td>\n",
       "      <td>146</td>\n",
       "      <td>164</td>\n",
       "      <td>False</td>\n",
       "      <td>0.890</td>\n",
       "    </tr>\n",
       "    <tr>\n",
       "      <th>9</th>\n",
       "      <td>Duneviridae</td>\n",
       "      <td>6</td>\n",
       "      <td>7</td>\n",
       "      <td>False</td>\n",
       "      <td>0.857</td>\n",
       "    </tr>\n",
       "    <tr>\n",
       "      <th>43</th>\n",
       "      <td>Vilmaviridae</td>\n",
       "      <td>27</td>\n",
       "      <td>34</td>\n",
       "      <td>False</td>\n",
       "      <td>0.794</td>\n",
       "    </tr>\n",
       "    <tr>\n",
       "      <th>52</th>\n",
       "      <td>Autoscriptoviridae</td>\n",
       "      <td>94</td>\n",
       "      <td>138</td>\n",
       "      <td>False</td>\n",
       "      <td>0.681</td>\n",
       "    </tr>\n",
       "    <tr>\n",
       "      <th>21</th>\n",
       "      <td>Rountreeviridae</td>\n",
       "      <td>38</td>\n",
       "      <td>73</td>\n",
       "      <td>False</td>\n",
       "      <td>0.521</td>\n",
       "    </tr>\n",
       "    <tr>\n",
       "      <th>47</th>\n",
       "      <td>Yangangviridae</td>\n",
       "      <td>3</td>\n",
       "      <td>8</td>\n",
       "      <td>False</td>\n",
       "      <td>0.375</td>\n",
       "    </tr>\n",
       "    <tr>\n",
       "      <th>3</th>\n",
       "      <td>Salasmaviridae</td>\n",
       "      <td>31</td>\n",
       "      <td>88</td>\n",
       "      <td>False</td>\n",
       "      <td>0.352</td>\n",
       "    </tr>\n",
       "    <tr>\n",
       "      <th>26</th>\n",
       "      <td>Grimontviridae</td>\n",
       "      <td>10</td>\n",
       "      <td>35</td>\n",
       "      <td>False</td>\n",
       "      <td>0.286</td>\n",
       "    </tr>\n",
       "    <tr>\n",
       "      <th>50</th>\n",
       "      <td>Autonotataviridae</td>\n",
       "      <td>39</td>\n",
       "      <td>142</td>\n",
       "      <td>False</td>\n",
       "      <td>0.275</td>\n",
       "    </tr>\n",
       "    <tr>\n",
       "      <th>48</th>\n",
       "      <td>Usuviridae</td>\n",
       "      <td>2</td>\n",
       "      <td>8</td>\n",
       "      <td>False</td>\n",
       "      <td>0.250</td>\n",
       "    </tr>\n",
       "    <tr>\n",
       "      <th>25</th>\n",
       "      <td>Guelinviridae</td>\n",
       "      <td>10</td>\n",
       "      <td>58</td>\n",
       "      <td>False</td>\n",
       "      <td>0.172</td>\n",
       "    </tr>\n",
       "    <tr>\n",
       "      <th>33</th>\n",
       "      <td>Autographiviridae</td>\n",
       "      <td>30</td>\n",
       "      <td>368</td>\n",
       "      <td>False</td>\n",
       "      <td>0.082</td>\n",
       "    </tr>\n",
       "    <tr>\n",
       "      <th>54</th>\n",
       "      <td>Unassigned</td>\n",
       "      <td>25</td>\n",
       "      <td>368</td>\n",
       "      <td>False</td>\n",
       "      <td>0.068</td>\n",
       "    </tr>\n",
       "    <tr>\n",
       "      <th>34</th>\n",
       "      <td>Chimalliviridae</td>\n",
       "      <td>33</td>\n",
       "      <td>574</td>\n",
       "      <td>False</td>\n",
       "      <td>0.057</td>\n",
       "    </tr>\n",
       "    <tr>\n",
       "      <th>41</th>\n",
       "      <td>Verdandiviridae</td>\n",
       "      <td>3</td>\n",
       "      <td>104</td>\n",
       "      <td>False</td>\n",
       "      <td>0.029</td>\n",
       "    </tr>\n",
       "    <tr>\n",
       "      <th>45</th>\n",
       "      <td>Zobellviridae</td>\n",
       "      <td>11</td>\n",
       "      <td>425</td>\n",
       "      <td>False</td>\n",
       "      <td>0.026</td>\n",
       "    </tr>\n",
       "    <tr>\n",
       "      <th>37</th>\n",
       "      <td>Mesyanzhinovviridae</td>\n",
       "      <td>19</td>\n",
       "      <td>1240</td>\n",
       "      <td>False</td>\n",
       "      <td>0.015</td>\n",
       "    </tr>\n",
       "    <tr>\n",
       "      <th>8</th>\n",
       "      <td>Pachyviridae</td>\n",
       "      <td>5</td>\n",
       "      <td>621</td>\n",
       "      <td>False</td>\n",
       "      <td>0.008</td>\n",
       "    </tr>\n",
       "    <tr>\n",
       "      <th>12</th>\n",
       "      <td>Winoviridae</td>\n",
       "      <td>3</td>\n",
       "      <td>4083</td>\n",
       "      <td>False</td>\n",
       "      <td>0.001</td>\n",
       "    </tr>\n",
       "  </tbody>\n",
       "</table>\n",
       "</div>"
      ],
      "text/plain": [
       "                    Family  Num Members  LCA Size  Monophyletic  Precision\n",
       "32        Ackermannviridae           63        64         False      0.984\n",
       "4            Straboviridae          208       212         False      0.981\n",
       "2           Casjensviridae           50        51         False      0.980\n",
       "18       Aliceevansviridae          126       133         False      0.947\n",
       "53      Autosignataviridae           34        36         False      0.944\n",
       "5             Kyanoviridae           66        70         False      0.943\n",
       "51  Autotranscriptaviridae          146       164         False      0.890\n",
       "9              Duneviridae            6         7         False      0.857\n",
       "43            Vilmaviridae           27        34         False      0.794\n",
       "52      Autoscriptoviridae           94       138         False      0.681\n",
       "21         Rountreeviridae           38        73         False      0.521\n",
       "47          Yangangviridae            3         8         False      0.375\n",
       "3           Salasmaviridae           31        88         False      0.352\n",
       "26          Grimontviridae           10        35         False      0.286\n",
       "50       Autonotataviridae           39       142         False      0.275\n",
       "48              Usuviridae            2         8         False      0.250\n",
       "25           Guelinviridae           10        58         False      0.172\n",
       "33       Autographiviridae           30       368         False      0.082\n",
       "54              Unassigned           25       368         False      0.068\n",
       "34         Chimalliviridae           33       574         False      0.057\n",
       "41         Verdandiviridae            3       104         False      0.029\n",
       "45           Zobellviridae           11       425         False      0.026\n",
       "37     Mesyanzhinovviridae           19      1240         False      0.015\n",
       "8             Pachyviridae            5       621         False      0.008\n",
       "12             Winoviridae            3      4083         False      0.001"
      ]
     },
     "execution_count": 71,
     "metadata": {},
     "output_type": "execute_result"
    }
   ],
   "source": [
    "family_precision_df[family_precision_df.Precision<1]"
   ]
  },
  {
   "cell_type": "code",
   "execution_count": 79,
   "id": "874df6af-919e-4a3c-bf52-4b6252f616d3",
   "metadata": {},
   "outputs": [],
   "source": [
    "family_precision_df.sort_values(by=['Precision','Num Members'],ascending=False)\\\n",
    "                    .reset_index(drop=True).to_csv('../data/supplementary_family_structural_monophyl.csv',index=False)"
   ]
  }
 ],
 "metadata": {
  "kernelspec": {
   "display_name": "Python 3 (ipykernel)",
   "language": "python",
   "name": "python3"
  },
  "language_info": {
   "codemirror_mode": {
    "name": "ipython",
    "version": 3
   },
   "file_extension": ".py",
   "mimetype": "text/x-python",
   "name": "python",
   "nbconvert_exporter": "python",
   "pygments_lexer": "ipython3",
   "version": "3.8.19"
  }
 },
 "nbformat": 4,
 "nbformat_minor": 5
}
